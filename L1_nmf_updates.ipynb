{
 "cells": [
  {
   "cell_type": "code",
   "execution_count": 110,
   "id": "4ad443c3",
   "metadata": {},
   "outputs": [],
   "source": [
    "import numpy as np\n",
    "\n",
    "from tqdm import tqdm\n",
    "\n",
    "import matplotlib.pyplot as plt\n",
    "\n",
    "from sklearn.decomposition import NMF"
   ]
  },
  {
   "cell_type": "code",
   "execution_count": 78,
   "id": "d5e63567",
   "metadata": {},
   "outputs": [],
   "source": [
    "#update to W\n",
    "def l1_mult_update(X, W, H): \n",
    "    m,n = np.shape(X)\n",
    "    _,k = np.shape(W)\n",
    "    \n",
    "    X_approx = W@H\n",
    "    res_mat = np.abs(X - X_approx) + 1e-10\n",
    "    \n",
    "    #new_W = (W/((W@H@H.transpose())/(res_mat@np.ones(np.shape(H.transpose())))))*((X@H.transpose())/(res_mat@np.ones(np.shape(H.transpose()))))\n",
    "    new_W = (W/(((W@H)/res_mat)@H.transpose()))*((X/res_mat)@H.transpose())\n",
    "    \n",
    "    '''new_W = np.zeros(np.shape(W))\n",
    "    for s in range(m):\n",
    "        for t in range(k):\n",
    "            if res_mat[s,t] == 0:\n",
    "                print(s,t)\n",
    "            #new_W[s,t] = W[s,t]*np.sum(X[s,:]/(res_mat[s,:]))/(np.sum(X_approx[s,:]*H[t,:]/(res_mat[s,:]+1e-10))+1e-10)\n",
    "            denom1 = np.maximum(1e-10,np.sum((X_approx[s, np.argwhere(res_mat[s,:])]*H[t, np.argwhere(res_mat[s,:])])/res_mat[s, np.argwhere(res_mat[s,:])]))\n",
    "            #denom1 = np.sum((X_approx[s, np.argwhere(res_mat[s,:])]*H[t, np.argwhere(res_mat[s,:])])/res_mat[s, np.argwhere(res_mat[s,:])])\n",
    "            term2 = np.maximum(1e-10,np.sum((X[s, np.argwhere(res_mat[s,:])]*H[t, np.argwhere(res_mat[s,:])])/res_mat[s, np.argwhere(res_mat[s,:])]))\n",
    "            #term2 = np.sum((X[s, np.argwhere(res_mat[s,:])]*H[t, np.argwhere(res_mat[s,:])])/res_mat[s, np.argwhere(res_mat[s,:])])\n",
    "            new_W[s, t] = (W[s, t]/denom1)*(term2)\n",
    "            #if denom1 < 1e-6:\n",
    "            #    print (\"here\")\n",
    "            #    print (\"entry\", s, t, \"has denom1 = 0.\")\n",
    "            #if term2 < 1e-6:\n",
    "            #    print (\"here\")\n",
    "            #    print (\"entry\", s, t, \"has term2 = 0.\")\n",
    "    '''\n",
    "            \n",
    "    return new_W"
   ]
  },
  {
   "cell_type": "code",
   "execution_count": 79,
   "id": "37cc5122",
   "metadata": {},
   "outputs": [],
   "source": [
    "def l1_mult_updates(X,k,max_iter,W,H):\n",
    "    m,n = np.shape(X)\n",
    "    #W = np.random.rand(m,k)\n",
    "    #H = np.random.rand(k,n)\n",
    "    \n",
    "    for t in range(max_iter):\n",
    "        #print(\"iteration\",t)\n",
    "        W = l1_mult_update(X,W,H)\n",
    "        H = l1_mult_update(X.transpose(),H.transpose(),W.transpose()).transpose()\n",
    "        \n",
    "    return W,H"
   ]
  },
  {
   "cell_type": "code",
   "execution_count": 82,
   "id": "96a8b782",
   "metadata": {},
   "outputs": [
    {
     "name": "stdout",
     "output_type": "stream",
     "text": [
      "195195.47362812082\n",
      "24443.225544976176\n"
     ]
    }
   ],
   "source": [
    "X = np.random.rand(1000,100)\n",
    "k = 10\n",
    "\n",
    "W = np.random.rand(1000,k)\n",
    "H = np.random.rand(k,100)\n",
    "\n",
    "print(np.linalg.norm(np.matrix.flatten(X-W@H),1))\n",
    "\n",
    "W,H = l1_mult_updates(X,k,100,W,H)\n",
    "\n",
    "print(np.linalg.norm(np.matrix.flatten(X-W@H),1))"
   ]
  },
  {
   "cell_type": "code",
   "execution_count": 85,
   "id": "2f98dc66",
   "metadata": {},
   "outputs": [],
   "source": [
    "errs = []\n",
    "\n",
    "X = np.random.rand(1000,100)\n",
    "k = 10\n",
    "\n",
    "W = np.random.rand(1000,k)\n",
    "H = np.random.rand(k,100)\n",
    "\n",
    "num_iters = 100\n",
    "\n",
    "for i in range(num_iters):\n",
    "    W,H = l1_mult_updates(X,k,1,W,H)\n",
    "\n",
    "    errs.append(np.linalg.norm(np.matrix.flatten(X-W@H),1))"
   ]
  },
  {
   "cell_type": "code",
   "execution_count": 86,
   "id": "1c0b7b7e",
   "metadata": {},
   "outputs": [
    {
     "data": {
      "text/plain": [
       "[<matplotlib.lines.Line2D at 0x7f85c8ee18b0>]"
      ]
     },
     "execution_count": 86,
     "metadata": {},
     "output_type": "execute_result"
    },
    {
     "data": {
      "image/png": "[encoded data removed]",
      "text/plain": [
       "<Figure size 432x288 with 1 Axes>"
      ]
     },
     "metadata": {
      "needs_background": "light"
     },
     "output_type": "display_data"
    }
   ],
   "source": [
    "plt.semilogy(range(1,num_iters+1),errs)"
   ]
  },
  {
   "cell_type": "code",
   "execution_count": 87,
   "id": "cb17b15f",
   "metadata": {},
   "outputs": [],
   "source": [
    "errs = []\n",
    "\n",
    "k = 10\n",
    "X = np.random.rand(1000,k)@np.random.rand(k,100)\n",
    "\n",
    "W = np.random.rand(1000,k)\n",
    "H = np.random.rand(k,100)\n",
    "\n",
    "num_iters = 100\n",
    "\n",
    "for i in range(num_iters):\n",
    "    W,H = l1_mult_updates(X,k,1,W,H)\n",
    "\n",
    "    errs.append(np.linalg.norm(np.matrix.flatten(X-W@H),1))"
   ]
  },
  {
   "cell_type": "code",
   "execution_count": 88,
   "id": "8bc24d32",
   "metadata": {},
   "outputs": [
    {
     "data": {
      "text/plain": [
       "[<matplotlib.lines.Line2D at 0x7f85c8ad42b0>]"
      ]
     },
     "execution_count": 88,
     "metadata": {},
     "output_type": "execute_result"
    },
    {
     "data": {
      "image/png": "[encoded data removed]",
      "text/plain": [
       "<Figure size 432x288 with 1 Axes>"
      ]
     },
     "metadata": {
      "needs_background": "light"
     },
     "output_type": "display_data"
    }
   ],
   "source": [
    "plt.semilogy(range(1,num_iters+1),errs)"
   ]
  },
  {
   "cell_type": "markdown",
   "id": "49ca024d",
   "metadata": {},
   "source": [
    "## Sanity Checks"
   ]
  },
  {
   "cell_type": "code",
   "execution_count": 89,
   "id": "f42a3444",
   "metadata": {},
   "outputs": [],
   "source": [
    "errs = []\n",
    "k = 10\n",
    "W_opt = np.random.rand(1000,k)\n",
    "H_opt = np.random.rand(k,100)\n",
    "\n",
    "X = W_opt@H_opt\n",
    "\n",
    "init_noise = 1e-10\n",
    "\n",
    "W = W_opt + init_noise*(np.random.rand(1000,k)<0.1)\n",
    "H = H_opt + init_noise*(np.random.rand(k,100)<0.1)\n",
    "\n",
    "#W_opt[2, 5] += .05\n",
    "#H_opt [5, 25] += .1\n",
    "\n",
    "num_iters = 200000\n",
    "\n",
    "for i in range(num_iters):\n",
    "    W,H = l1_mult_updates(X,k,1,W,H)\n",
    "    #if denom1 == 1e-10:\n",
    "     #   print (\"entry\", s, t, \"has denom1 = 0.\")\n",
    "    #if term2 == 1e-10:\n",
    "     #   print (\"entry\", s, t, \"has term2 = 0.\")\n",
    "        \n",
    "\n",
    "    errs.append(np.linalg.norm(np.matrix.flatten(X-W@H),1))"
   ]
  },
  {
   "cell_type": "code",
   "execution_count": 90,
   "id": "fca54351",
   "metadata": {},
   "outputs": [
    {
     "data": {
      "text/plain": [
       "[<matplotlib.lines.Line2D at 0x7f85c82ce880>]"
      ]
     },
     "execution_count": 90,
     "metadata": {},
     "output_type": "execute_result"
    },
    {
     "data": {
      "image/png": "[encoded data removed]",
      "text/plain": [
       "<Figure size 432x288 with 1 Axes>"
      ]
     },
     "metadata": {
      "needs_background": "light"
     },
     "output_type": "display_data"
    }
   ],
   "source": [
    "plt.semilogy(range(1,num_iters+1),errs)"
   ]
  },
  {
   "cell_type": "code",
   "execution_count": null,
   "id": "b6874ccc",
   "metadata": {},
   "outputs": [],
   "source": []
  },
  {
   "cell_type": "markdown",
   "id": "9fb2e014",
   "metadata": {},
   "source": [
    "## Confirmation of Hand Calculation"
   ]
  },
  {
   "cell_type": "code",
   "execution_count": 24,
   "id": "eb2835dd",
   "metadata": {},
   "outputs": [
    {
     "name": "stdout",
     "output_type": "stream",
     "text": [
      "41\n"
     ]
    }
   ],
   "source": [
    "x = [0, 1, 1, 0, 3, 4, 6, -1, 0, 1]\n",
    "y = [1, 2, 3, 4, 5, 6, 7, 8, 9, 10]\n",
    "z = 0\n",
    "\n",
    "for i in np.argwhere(x):\n",
    "  z += y[i.item()]\n",
    "\n",
    "print(z)\n"
   ]
  },
  {
   "cell_type": "code",
   "execution_count": 52,
   "id": "7e1363d9",
   "metadata": {
    "scrolled": true
   },
   "outputs": [
    {
     "name": "stdout",
     "output_type": "stream",
     "text": [
      "[[1.         0.58823529]\n",
      " [0.         1.        ]\n",
      " [0.92857143 0.4       ]]\n",
      "[[0.22222222 0.5       ]\n",
      " [0.         0.5       ]\n",
      " [0.93333333 0.41666667]]\n",
      "[[1.         0.58823529]\n",
      " [0.         1.        ]\n",
      " [0.92857143 0.4       ]]\n"
     ]
    }
   ],
   "source": [
    "X = np.array([[1, 2, 1], \n",
    "              [3, 0, 2], \n",
    "              [1, 1, 4]])\n",
    "\n",
    "W = np.array([[1, 2],\n",
    "              [0, 1],\n",
    "              [2, 1]])\n",
    "\n",
    "H = np.array([[1, 1, 3],\n",
    "              [0, 2, 2]])\n",
    "\n",
    "X_approx = W@H\n",
    "res_mat = np.abs(X - X_approx) + 1e-10\n",
    "new_W = np.zeros(np.shape(W))\n",
    "h1 = np.ones(np.shape(H.transpose()))\n",
    "\n",
    "m = 3\n",
    "n = 3\n",
    "k = 2\n",
    "\n",
    "s = 2\n",
    "t = 0\n",
    "\n",
    "for s in range(m):\n",
    "    for t in range (k):\n",
    "        denom1 = 0\n",
    "        term2 = 0\n",
    "        #for j in np.argwhere(res_mat[s,:]):\n",
    "        #    denom1 += (X_approx[s, j.item()]*H[t, j.item()])/res_mat[s, j.item()]\n",
    "        #    term2 += (X[s, j.item()]*H[t, j.item()])/res_mat[s, j.item()]\n",
    "        denom1 = np.sum((X_approx[s, np.argwhere(res_mat[s,:])]*H[t, np.argwhere(res_mat[s,:])])/res_mat[s, np.argwhere(res_mat[s,:])])\n",
    "        term2 = np.sum((X[s, np.argwhere(res_mat[s,:])]*H[t, np.argwhere(res_mat[s,:])])/res_mat[s, np.argwhere(res_mat[s,:])])\n",
    "        new_W[s, t] = (W[s, t]/denom1)*(term2)\n",
    "\n",
    "print(new_W)\n",
    "\n",
    "\n",
    "new_W_2 = (W/((W@H@H.transpose())/(res_mat@h1)))*((X@H.transpose())/(res_mat@h1))\n",
    "\n",
    "new_W_3 = (W/(((W@H)/res_mat)@H.transpose()))*((X/res_mat)@H.transpose())\n",
    "\n",
    "print(new_W_2)\n",
    "print(new_W_3)\n",
    "\n"
   ]
  },
  {
   "cell_type": "code",
   "execution_count": 4,
   "id": "76bdc251",
   "metadata": {},
   "outputs": [
    {
     "data": {
      "text/plain": [
       "array([[2],\n",
       "       [4],\n",
       "       [8]])"
      ]
     },
     "execution_count": 4,
     "metadata": {},
     "output_type": "execute_result"
    }
   ],
   "source": [
    "X_approx[s,np.argwhere(res_mat[s,:])]"
   ]
  },
  {
   "cell_type": "code",
   "execution_count": 6,
   "id": "68e17cc1",
   "metadata": {},
   "outputs": [
    {
     "data": {
      "text/plain": [
       "array([[1., 1., 1.],\n",
       "       [1., 1., 1.]])"
      ]
     },
     "execution_count": 6,
     "metadata": {},
     "output_type": "execute_result"
    }
   ],
   "source": [
    "np.ones(np.shape(H))"
   ]
  },
  {
   "cell_type": "markdown",
   "id": "c494f7e1",
   "metadata": {},
   "source": [
    "# Preliminary Comparison"
   ]
  },
  {
   "cell_type": "code",
   "execution_count": 91,
   "id": "9078fbb2",
   "metadata": {},
   "outputs": [],
   "source": [
    "def mystery_mult_update(X, W2, H2): \n",
    "    m,n = np.shape(X)\n",
    "    _,k = np.shape(W2)\n",
    "    \n",
    "    X_approx2 = W2@H2\n",
    "    res_mat2 = np.abs(X - X_approx2) + 1e-10\n",
    "    \n",
    "    new_W2 = (W2/((W2@H2@H2.transpose())/(res_mat2@np.ones(np.shape(H2.transpose())))))*((X@H2.transpose())/(res_mat2@np.ones(np.shape(H2.transpose()))))\n",
    "    \n",
    "    return new_W2\n",
    "\n",
    "\n",
    "\n",
    "def mystery_mult_updates(X,k,max_iter,W2,H2):\n",
    "    m,n = np.shape(X)\n",
    "    \n",
    "    for t in range(max_iter):\n",
    "        W2 = mystery_mult_update(X,W2,H2)\n",
    "        H2 = mystery_mult_update(X.transpose(),H2.transpose(),W2.transpose()).transpose()\n",
    "        \n",
    "    return W2,H2"
   ]
  },
  {
   "cell_type": "code",
   "execution_count": 98,
   "id": "53ddb5cc",
   "metadata": {},
   "outputs": [],
   "source": [
    "errs_l1 = []\n",
    "errs_lm = []\n",
    "\n",
    "X = np.random.rand(1000,100)\n",
    "k = 10\n",
    "\n",
    "W = np.random.rand(1000,k)\n",
    "H = np.random.rand(k,100)\n",
    "W2 = W.copy()\n",
    "H2 = H.copy()\n",
    "\n",
    "num_iters = 200\n",
    "\n",
    "for i in range(num_iters):\n",
    "    errs_l1.append(np.linalg.norm(np.matrix.flatten(X-W@H),1))\n",
    "    W,H = l1_mult_updates(X,k,1,W,H)\n",
    "    \n",
    "    errs_lm.append(np.linalg.norm(np.matrix.flatten(X-W2@H2),1))\n",
    "    W2,H2 = mystery_mult_updates(X,k,1,W2,H2)\n",
    "    "
   ]
  },
  {
   "cell_type": "code",
   "execution_count": 99,
   "id": "571139bd",
   "metadata": {},
   "outputs": [
    {
     "data": {
      "text/plain": [
       "[<matplotlib.lines.Line2D at 0x7f85c9660370>]"
      ]
     },
     "execution_count": 99,
     "metadata": {},
     "output_type": "execute_result"
    },
    {
     "data": {
      "image/png": "[encoded data removed]",
      "text/plain": [
       "<Figure size 432x288 with 1 Axes>"
      ]
     },
     "metadata": {
      "needs_background": "light"
     },
     "output_type": "display_data"
    }
   ],
   "source": [
    "plt.semilogy(range(1,num_iters+1), errs_lm, 'b')\n",
    "plt.semilogy(range(1,num_iters+1), errs_l1, 'r')"
   ]
  },
  {
   "cell_type": "code",
   "execution_count": 108,
   "id": "65c23ba0",
   "metadata": {},
   "outputs": [],
   "source": [
    "errs_l1 = []\n",
    "errs_lm = []\n",
    "\n",
    "k = 10\n",
    "W_opt = np.random.rand(1000,k)\n",
    "H_opt = np.random.rand(k,100)\n",
    "\n",
    "X = W_opt@H_opt\n",
    "\n",
    "init_noise = 1e-10\n",
    "\n",
    "W = W_opt + init_noise*(np.random.rand(1000,k)<0.1)\n",
    "H = H_opt + init_noise*(np.random.rand(k,100)<0.1)\n",
    "W2 = W.copy()\n",
    "H2 = H.copy()\n",
    "\n",
    "num_iters = 1000\n",
    "\n",
    "for i in range(num_iters):\n",
    "    W,H = l1_mult_updates(X,k,1,W,H)\n",
    "    errs_l1.append(np.linalg.norm(np.matrix.flatten(X-W@H),1))\n",
    "                   \n",
    "    W2,H2 = mystery_mult_updates(X,k,1,W2,H2)\n",
    "    errs_lm.append(np.linalg.norm(np.matrix.flatten(X-W2@H2),1))"
   ]
  },
  {
   "cell_type": "code",
   "execution_count": 109,
   "id": "ea9e6939",
   "metadata": {},
   "outputs": [
    {
     "data": {
      "text/plain": [
       "[<matplotlib.lines.Line2D at 0x7f85c9c1de20>]"
      ]
     },
     "execution_count": 109,
     "metadata": {},
     "output_type": "execute_result"
    },
    {
     "data": {
      "image/png": "[encoded data removed]",
      "text/plain": [
       "<Figure size 432x288 with 1 Axes>"
      ]
     },
     "metadata": {
      "needs_background": "light"
     },
     "output_type": "display_data"
    }
   ],
   "source": [
    "plt.semilogy(range(1,num_iters+1), errs_lm, 'b')\n",
    "plt.semilogy(range(1,num_iters+1), errs_l1, 'r')"
   ]
  },
  {
   "cell_type": "markdown",
   "id": "d74fc8c6",
   "metadata": {},
   "source": [
    "# Robust Example"
   ]
  },
  {
   "cell_type": "code",
   "execution_count": 103,
   "id": "5bc3262a",
   "metadata": {},
   "outputs": [],
   "source": [
    "def f_mult_update(X, W3, H3): \n",
    "    m,n = np.shape(X)\n",
    "    _,k = np.shape(W3)\n",
    "    \n",
    "    X_approx3 = W3@H3\n",
    "    res_mat3 = np.abs(X - X_approx3) + 1e-10\n",
    "    \n",
    "    new_W3 = W3*((X@H3.transpose())/(W3@H3@H3.transpose()+1e-10))\n",
    "    \n",
    "    return new_W3\n",
    "\n",
    "\n",
    "\n",
    "def f_mult_updates(X,k,max_iter,W3,H3):\n",
    "    m,n = np.shape(X)\n",
    "    \n",
    "    for t in range(max_iter):\n",
    "        W3 = f_mult_update(X,W3,H3)\n",
    "        H3 = f_mult_update(X.transpose(),H3.transpose(),W3.transpose()).transpose()\n",
    "        \n",
    "    return W3,H3"
   ]
  },
  {
   "cell_type": "code",
   "execution_count": 113,
   "id": "49955fb8",
   "metadata": {},
   "outputs": [],
   "source": [
    "errs_l1 = []\n",
    "errs_lm = []\n",
    "errs_f = []\n",
    "\n",
    "X = np.random.rand(1000,100)\n",
    "k = 10\n",
    "r = 3\n",
    "\n",
    "W = np.random.rand(1000,k)\n",
    "H = np.random.rand(k,100)\n",
    "W2 = W.copy()\n",
    "H2 = H.copy()\n",
    "W3 = W.copy()\n",
    "H3 = H.copy()\n",
    "X_errs = X.copy()\n",
    "\n",
    "columns = np.random.randint(0, 10, r)\n",
    "rows = np.random.randint(0, 10, r)\n",
    "\n",
    "for i in range(r):\n",
    "    X_errs[rows[i], columns[i]] += 100\n",
    "\n",
    "num_iters = 50\n",
    "\n",
    "for i in range(num_iters):\n",
    "    errs_l1.append(np.linalg.norm(np.matrix.flatten(X-W@H),1))\n",
    "    W,H = l1_mult_updates(X_errs,k,1,W,H)\n",
    "    \n",
    "    errs_lm.append(np.linalg.norm(np.matrix.flatten(X-W2@H2),1))\n",
    "    W2,H2 = mystery_mult_updates(X_errs,k,1,W2,H2)\n",
    "    \n",
    "    errs_f.append(np.linalg.norm(np.matrix.flatten(X-W3@H3),1))\n",
    "    W3,H3 = f_mult_updates(X_errs,k,1,W3,H3)"
   ]
  },
  {
   "cell_type": "code",
   "execution_count": 114,
   "id": "ae5cfbed",
   "metadata": {},
   "outputs": [
    {
     "data": {
      "text/plain": [
       "'entrywise l1 updates in red, frobenius norm updates in green, mystery updates in blue.'"
      ]
     },
     "execution_count": 114,
     "metadata": {},
     "output_type": "execute_result"
    },
    {
     "data": {
      "image/png": "[encoded data removed]",
      "text/plain": [
       "<Figure size 432x288 with 1 Axes>"
      ]
     },
     "metadata": {
      "needs_background": "light"
     },
     "output_type": "display_data"
    }
   ],
   "source": [
    "plt.semilogy(range(1,num_iters+1), errs_l1, 'r')\n",
    "plt.semilogy(range(1,num_iters+1), errs_lm, 'b')\n",
    "plt.semilogy(range(1,num_iters+1), errs_f, 'g')\n",
    "\n",
    "'''entrywise l1 updates in red, frobenius norm updates in green, mystery updates in blue.'''"
   ]
  },
  {
   "cell_type": "code",
   "execution_count": null,
   "id": "bbc5643a",
   "metadata": {},
   "outputs": [],
   "source": [
    "errs_f = []\n",
    "errs_sk = []\n",
    "\n",
    "sklearn.decomposition.NMF()"
   ]
  },
  {
   "cell_type": "code",
   "execution_count": 4,
   "id": "18015459",
   "metadata": {},
   "outputs": [
    {
     "name": "stdout",
     "output_type": "stream",
     "text": [
      "[6 0 0] [7 0 9]\n",
      "[[0. 0. 0. 0. 0. 0. 0. 0. 0. 0.]\n",
      " [0. 0. 0. 0. 0. 0. 0. 0. 0. 0.]\n",
      " [0. 0. 0. 0. 0. 0. 0. 0. 0. 0.]\n",
      " [0. 0. 0. 0. 0. 0. 0. 0. 0. 0.]\n",
      " [0. 0. 0. 0. 0. 0. 0. 0. 0. 0.]\n",
      " [0. 0. 0. 0. 0. 0. 0. 0. 0. 0.]\n",
      " [0. 0. 0. 0. 0. 0. 0. 0. 0. 0.]\n",
      " [0. 0. 0. 0. 0. 0. 0. 0. 0. 0.]\n",
      " [0. 0. 0. 0. 0. 0. 0. 0. 0. 0.]\n",
      " [0. 0. 0. 0. 0. 0. 0. 0. 0. 0.]]\n",
      "[[100.   0.   0.   0.   0.   0.   0.   0.   0. 100.]\n",
      " [  0.   0.   0.   0.   0.   0.   0.   0.   0.   0.]\n",
      " [  0.   0.   0.   0.   0.   0.   0.   0.   0.   0.]\n",
      " [  0.   0.   0.   0.   0.   0.   0.   0.   0.   0.]\n",
      " [  0.   0.   0.   0.   0.   0.   0.   0.   0.   0.]\n",
      " [  0.   0.   0.   0.   0.   0.   0.   0.   0.   0.]\n",
      " [  0.   0.   0.   0.   0.   0.   0. 100.   0.   0.]\n",
      " [  0.   0.   0.   0.   0.   0.   0.   0.   0.   0.]\n",
      " [  0.   0.   0.   0.   0.   0.   0.   0.   0.   0.]\n",
      " [  0.   0.   0.   0.   0.   0.   0.   0.   0.   0.]]\n"
     ]
    }
   ],
   "source": [
    "r = 3\n",
    "columns = np.random.randint(0, 10, r)\n",
    "rows = np.random.randint(0, 10, r)\n",
    "\n",
    "print(rows, columns)\n",
    "\n",
    "X = np.zeros((10, 10))\n",
    "Y = X.copy()\n",
    "\n",
    "for i in range(r):\n",
    "    Y[rows[i], columns[i]] += 100\n",
    "\n",
    "\n",
    "print(X)\n",
    "print(Y)"
   ]
  },
  {
   "cell_type": "code",
   "execution_count": null,
   "id": "bcc8e279",
   "metadata": {},
   "outputs": [],
   "source": []
  },
  {
   "cell_type": "code",
   "execution_count": null,
   "id": "23096c12",
   "metadata": {},
   "outputs": [],
   "source": []
  },
  {
   "cell_type": "code",
   "execution_count": null,
   "id": "845ae830",
   "metadata": {},
   "outputs": [],
   "source": []
  }
 ],
 "metadata": {
  "kernelspec": {
   "display_name": "Python 3",
   "language": "python",
   "name": "python3"
  },
  "language_info": {
   "codemirror_mode": {
    "name": "ipython",
    "version": 3
   },
   "file_extension": ".py",
   "mimetype": "text/x-python",
   "name": "python",
   "nbconvert_exporter": "python",
   "pygments_lexer": "ipython3",
   "version": "3.8.8"
  }
 },
 "nbformat": 4,
 "nbformat_minor": 5
}
