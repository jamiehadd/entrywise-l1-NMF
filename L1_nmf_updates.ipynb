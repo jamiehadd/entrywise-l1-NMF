{
 "cells": [
  {
   "cell_type": "code",
   "execution_count": 1,
   "id": "4ad443c3",
   "metadata": {},
   "outputs": [],
   "source": [
    "import numpy as np\n",
    "\n",
    "from tqdm import tqdm\n",
    "\n",
    "import matplotlib.pyplot as plt"
   ]
  },
  {
   "cell_type": "code",
   "execution_count": 21,
   "id": "d5e63567",
   "metadata": {},
   "outputs": [],
   "source": [
    "#update to W\n",
    "def l1_mult_update(X, W, H): \n",
    "    m,n = np.shape(X)\n",
    "    _,k = np.shape(W)\n",
    "    \n",
    "    X_approx = W@H\n",
    "    res_mat = np.abs(X - X_approx)\n",
    "    \n",
    "    new_W = np.zeros(np.shape(W))\n",
    "    for s in range(m):\n",
    "        for t in range(k):\n",
    "            #new_W[s,t] = W[s,t]*np.sum(X[s,:]/(res_mat[s,:]))/(np.sum(X_approx[s,:]*H[t,:]/(res_mat[s,:]+1e-10))+1e-10)\n",
    "            denom1 = np.maximum(1e-10,np.sum((X_approx[s, np.argwhere(res_mat[s,:])]*H[t, np.argwhere(res_mat[s,:])])/res_mat[s, np.argwhere(res_mat[s,:])]))\n",
    "            term2 = np.maximum(1e-10,np.sum((X[s, np.argwhere(res_mat[s,:])]*H[t, np.argwhere(res_mat[s,:])])/res_mat[s, np.argwhere(res_mat[s,:])]))\n",
    "            new_W[s, t] = (W[s, t]/denom1)*(term2)\n",
    "            \n",
    "    return new_W"
   ]
  },
  {
   "cell_type": "code",
   "execution_count": 10,
   "id": "37cc5122",
   "metadata": {},
   "outputs": [],
   "source": [
    "def l1_mult_updates(X,k,max_iter,W,H):\n",
    "    m,n = np.shape(X)\n",
    "    #W = np.random.rand(m,k)\n",
    "    #H = np.random.rand(k,n)\n",
    "    \n",
    "    for t in range(max_iter):\n",
    "        W = l1_mult_update(X,W,H)\n",
    "        H = l1_mult_update(X.transpose(),H.transpose(),W.transpose()).transpose()\n",
    "        \n",
    "    return W,H"
   ]
  },
  {
   "cell_type": "code",
   "execution_count": 11,
   "id": "96a8b782",
   "metadata": {},
   "outputs": [
    {
     "name": "stdout",
     "output_type": "stream",
     "text": [
      "2983.5493905868993\n",
      "264.35267399264444\n"
     ]
    }
   ],
   "source": [
    "X = np.random.rand(1000,100)\n",
    "k = 10\n",
    "\n",
    "W = np.random.rand(1000,k)\n",
    "H = np.random.rand(k,100)\n",
    "\n",
    "print(np.linalg.norm(X-W@H,1))\n",
    "\n",
    "W,H = l1_mult_updates(X,k,10,W,H)\n",
    "\n",
    "print(np.linalg.norm(X-W@H,1))"
   ]
  },
  {
   "cell_type": "code",
   "execution_count": 12,
   "id": "2f98dc66",
   "metadata": {},
   "outputs": [],
   "source": [
    "errs = []\n",
    "\n",
    "X = np.random.rand(1000,100)\n",
    "k = 10\n",
    "\n",
    "W = np.random.rand(1000,k)\n",
    "H = np.random.rand(k,100)\n",
    "\n",
    "num_iters = 10\n",
    "\n",
    "for i in range(num_iters):\n",
    "    W,H = l1_mult_updates(X,k,1,W,H)\n",
    "\n",
    "    errs.append(np.linalg.norm(X-W@H,1))"
   ]
  },
  {
   "cell_type": "code",
   "execution_count": 13,
   "id": "1c0b7b7e",
   "metadata": {},
   "outputs": [
    {
     "data": {
      "text/plain": [
       "[<matplotlib.lines.Line2D at 0x7fea2dee0820>]"
      ]
     },
     "execution_count": 13,
     "metadata": {},
     "output_type": "execute_result"
    },
    {
     "data": {
      "image/png": "[encoded data removed]",
      "text/plain": [
       "<Figure size 432x288 with 1 Axes>"
      ]
     },
     "metadata": {
      "needs_background": "light"
     },
     "output_type": "display_data"
    }
   ],
   "source": [
    "plt.semilogy(range(1,num_iters+1),errs)"
   ]
  },
  {
   "cell_type": "code",
   "execution_count": 14,
   "id": "cb17b15f",
   "metadata": {},
   "outputs": [],
   "source": [
    "errs = []\n",
    "\n",
    "k = 10\n",
    "X = np.random.rand(1000,k)@np.random.rand(k,100)\n",
    "\n",
    "W = np.random.rand(1000,k)\n",
    "H = np.random.rand(k,100)\n",
    "\n",
    "num_iters = 100\n",
    "\n",
    "for i in range(num_iters):\n",
    "    W,H = l1_mult_updates(X,k,1,W,H)\n",
    "\n",
    "    errs.append(np.linalg.norm(X-W@H,1))"
   ]
  },
  {
   "cell_type": "code",
   "execution_count": 15,
   "id": "8bc24d32",
   "metadata": {},
   "outputs": [
    {
     "data": {
      "text/plain": [
       "[<matplotlib.lines.Line2D at 0x7fea2ee1d0a0>]"
      ]
     },
     "execution_count": 15,
     "metadata": {},
     "output_type": "execute_result"
    },
    {
     "data": {
      "image/png": "[encoded data removed]",
      "text/plain": [
       "<Figure size 432x288 with 1 Axes>"
      ]
     },
     "metadata": {
      "needs_background": "light"
     },
     "output_type": "display_data"
    }
   ],
   "source": [
    "plt.semilogy(range(1,num_iters+1),errs)"
   ]
  },
  {
   "cell_type": "markdown",
   "id": "49ca024d",
   "metadata": {},
   "source": [
    "## Sanity Checks"
   ]
  },
  {
   "cell_type": "code",
   "execution_count": 28,
   "id": "f42a3444",
   "metadata": {},
   "outputs": [],
   "source": [
    "errs = []\n",
    "W_opt = np.random.rand(1000,k)\n",
    "H_opt = np.random.rand(k,100)\n",
    "\n",
    "k = 10\n",
    "X = W_opt@H_opt\n",
    "\n",
    "init_noise = 1e-10\n",
    "\n",
    "W = W_opt + init_noise*(np.random.rand(1000,k)<0.1)\n",
    "H = H_opt + init_noise*(np.random.rand(k,100)<0.1)\n",
    "\n",
    "num_iters = 100\n",
    "\n",
    "for i in range(num_iters):\n",
    "    W,H = l1_mult_updates(X,k,1,W,H)\n",
    "\n",
    "    errs.append(np.linalg.norm(X-W@H,1))"
   ]
  },
  {
   "cell_type": "code",
   "execution_count": 29,
   "id": "fca54351",
   "metadata": {},
   "outputs": [
    {
     "data": {
      "text/plain": [
       "[<matplotlib.lines.Line2D at 0x7fea2f084e50>]"
      ]
     },
     "execution_count": 29,
     "metadata": {},
     "output_type": "execute_result"
    },
    {
     "data": {
      "image/png": "[encoded data removed]",
      "text/plain": [
       "<Figure size 432x288 with 1 Axes>"
      ]
     },
     "metadata": {
      "needs_background": "light"
     },
     "output_type": "display_data"
    }
   ],
   "source": [
    "plt.semilogy(range(1,num_iters+1),errs)"
   ]
  },
  {
   "cell_type": "markdown",
   "id": "9fb2e014",
   "metadata": {},
   "source": [
    "## Confirmation of Hand Calculation"
   ]
  },
  {
   "cell_type": "code",
   "execution_count": 17,
   "id": "eb2835dd",
   "metadata": {},
   "outputs": [
    {
     "name": "stdout",
     "output_type": "stream",
     "text": [
      "41\n"
     ]
    }
   ],
   "source": [
    "x = [0, 1, 1, 0, 3, 4, 6, -1, 0, 1]\n",
    "y = [1, 2, 3, 4, 5, 6, 7, 8, 9, 10]\n",
    "z = 0\n",
    "\n",
    "for i in np.argwhere(x):\n",
    "  z += y[i.item()]\n",
    "\n",
    "print(z)"
   ]
  },
  {
   "cell_type": "code",
   "execution_count": 8,
   "id": "7e1363d9",
   "metadata": {
    "scrolled": true
   },
   "outputs": [
    {
     "name": "stdout",
     "output_type": "stream",
     "text": [
      "[[0.22580645 0.58823529]\n",
      " [0.         0.        ]\n",
      " [0.92857143 0.4       ]]\n"
     ]
    }
   ],
   "source": [
    "X = np.array([[1, 2, 1], \n",
    "              [3, 0, 2], \n",
    "              [1, 1, 4]])\n",
    "\n",
    "W = np.array([[1, 2],\n",
    "              [0, 1],\n",
    "              [2, 1]])\n",
    "\n",
    "H = np.array([[1, 1, 3],\n",
    "              [0, 2, 2]])\n",
    "\n",
    "X_approx = W@H\n",
    "res_mat = np.abs(X - X_approx)\n",
    "new_W = np.zeros(np.shape(W))\n",
    "\n",
    "m = 3\n",
    "n = 3\n",
    "k = 2\n",
    "\n",
    "s = 2\n",
    "t = 0\n",
    "\n",
    "for s in range(m):\n",
    "    for t in range (k):\n",
    "        denom1 = 0\n",
    "        term2 = 0\n",
    "        #for j in np.argwhere(res_mat[s,:]):\n",
    "        #    denom1 += (X_approx[s, j.item()]*H[t, j.item()])/res_mat[s, j.item()]\n",
    "        #    term2 += (X[s, j.item()]*H[t, j.item()])/res_mat[s, j.item()]\n",
    "        denom1 = np.sum((X_approx[s, np.argwhere(res_mat[s,:])]*H[t, np.argwhere(res_mat[s,:])])/res_mat[s, np.argwhere(res_mat[s,:])])\n",
    "        term2 = np.sum((X[s, np.argwhere(res_mat[s,:])]*H[t, np.argwhere(res_mat[s,:])])/res_mat[s, np.argwhere(res_mat[s,:])])\n",
    "        new_W[s, t] = (W[s, t]/denom1)*(term2)\n",
    "\n",
    "print(new_W)\n",
    "\n"
   ]
  },
  {
   "cell_type": "code",
   "execution_count": 4,
   "id": "76bdc251",
   "metadata": {},
   "outputs": [
    {
     "data": {
      "text/plain": [
       "array([[2],\n",
       "       [4],\n",
       "       [8]])"
      ]
     },
     "execution_count": 4,
     "metadata": {},
     "output_type": "execute_result"
    }
   ],
   "source": [
    "X_approx[s,np.argwhere(res_mat[s,:])]"
   ]
  },
  {
   "cell_type": "code",
   "execution_count": 5,
   "id": "68e17cc1",
   "metadata": {},
   "outputs": [
    {
     "data": {
      "text/plain": [
       "2"
      ]
     },
     "execution_count": 5,
     "metadata": {},
     "output_type": "execute_result"
    }
   ],
   "source": [
    "s"
   ]
  },
  {
   "cell_type": "code",
   "execution_count": 6,
   "id": "7cde96c2",
   "metadata": {},
   "outputs": [
    {
     "data": {
      "text/plain": [
       "1"
      ]
     },
     "execution_count": 6,
     "metadata": {},
     "output_type": "execute_result"
    }
   ],
   "source": [
    "t"
   ]
  },
  {
   "cell_type": "code",
   "execution_count": null,
   "id": "53ddb5cc",
   "metadata": {},
   "outputs": [],
   "source": []
  }
 ],
 "metadata": {
  "kernelspec": {
   "display_name": "Python 3",
   "language": "python",
   "name": "python3"
  },
  "language_info": {
   "codemirror_mode": {
    "name": "ipython",
    "version": 3
   },
   "file_extension": ".py",
   "mimetype": "text/x-python",
   "name": "python",
   "nbconvert_exporter": "python",
   "pygments_lexer": "ipython3",
   "version": "3.8.8"
  }
 },
 "nbformat": 4,
 "nbformat_minor": 5
}
